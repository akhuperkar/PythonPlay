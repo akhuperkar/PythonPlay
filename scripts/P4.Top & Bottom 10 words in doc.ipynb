{
 "cells": [
  {
   "cell_type": "markdown",
   "metadata": {},
   "source": [
    "** Q4. Write a program that reads a text document file and lists down the ten most used words and the ten least used words, along with their count. In the final list, if there is a tie, the clash should be sorted by dictionary preferences. Eg. Aroma will have preference over Brownie if both words occur the same number of times. Kindly use standard file input techniques. Words should at least have a length of 4. (35%) **"
   ]
  },
  {
   "cell_type": "markdown",
   "metadata": {},
   "source": [
    "**Read me:** I have written the *wordCounter()* function to achieve the required ask. The function takes path of the text document as argument. The document is read and text is split into lower case words using *lower()* and *split()* functions. The 'punctuation' package helps to get rid of all punctuation marks. The for loop iterates all words over the file and creates a set of unique words with minimum length of 4 characters. The loop also maintains a count of all unique words. Finally, 10 words are filtered from the list sorted in ascending and descending order of their counts. \n",
    "\n",
    "I have used the McKinsey Big Data report as example. We can see that words like 'value', 'productivity', 'health' are top-3 most frequently cited words in the McKinsey report.\n",
    "\n",
    "To run this program for another text document, call the function *wordCounter()* and pass the path of the text document. Press Ctrl+enter to run the program, which prints the output of ten most and least occurring words in the document.\n",
    "\n",
    "**References:** \n",
    "* http://stackoverflow.com/questions/27327303/10-most-frequent-words-in-a-string-python"
   ]
  },
  {
   "cell_type": "code",
   "execution_count": 1,
   "metadata": {
    "collapsed": false
   },
   "outputs": [],
   "source": [
    "def wordCounter(textdocpath):          # Function takes path of the file as argument\n",
    "    from string import punctuation     # Packaged required for removing punctuations \n",
    "    # Document from the path is read, text is split into words, and converted in lower case\n",
    "    txtFile = open(textdocpath).read().lower().split() \n",
    "\n",
    "    word_counter = {}                  # Initiate the set of unique words\n",
    "    for word in txtFile:               # Words iterated over the entire document  \n",
    "        word = word.strip(punctuation) # Punctuation marks are removed\n",
    "        if len(word) > 4:              # Checking if each word has minimum length of 4 \n",
    "            if word not in word_counter: \n",
    "                word_counter[word] = 1 # Single occurences have a unit count\n",
    "            else:\n",
    "                word_counter[word] += 1# Increment if 'word' already exists in the set  \n",
    "                \n",
    "    print(\"Top-10 most occuring words\")# Print the ten words with the highest counts\n",
    "    for i,word in enumerate(sorted(word_counter,key=word_counter.get,reverse=True)[:10]): \n",
    "        print \"%s: %s - %s\"%((i+1),word,word_counter[word])\n",
    "\n",
    "    print(\"\")\n",
    "    print(\"Bottom-10 least occuring words\") # Print the ten words with the least counts \n",
    "    for j,word in enumerate(sorted(word_counter,key=word_counter.get,reverse=False)[:10]):\n",
    "        print \"%s: %s - %s\"%((j+1),word,word_counter[word])"
   ]
  },
  {
   "cell_type": "code",
   "execution_count": 2,
   "metadata": {
    "collapsed": false
   },
   "outputs": [
    {
     "name": "stdout",
     "output_type": "stream",
     "text": [
      "Top-10 most occuring words\n",
      "1: value - 325\n",
      "2: productivity - 265\n",
      "3: health - 247\n",
      "4: their - 234\n",
      "5: global - 218\n",
      "6: these - 214\n",
      "7: potential - 207\n",
      "8: sector - 206\n",
      "9: information - 186\n",
      "10: services - 167\n",
      "\n",
      "Bottom-10 least occuring words\n",
      "1: woods - 1\n",
      "2: participatorymedicine.org - 1\n",
      "3: cyprus - 1\n",
      "4: €100 - 1\n",
      "5: eligible - 1\n",
      "6: electricity - 1\n",
      "7: “a/b/n” - 1\n",
      "8: 1,115 - 1\n",
      "9: dioxide - 1\n",
      "10: design” - 1\n"
     ]
    }
   ],
   "source": [
    "# Test the function by running it on another file.\n",
    "# Type file path as argument and press run the function as ctrl+enter\n",
    "wordCounter(\"/home/akhuperkar/bdap2015/python/mgibigdata.txt\") "
   ]
  }
 ],
 "metadata": {
  "kernelspec": {
   "display_name": "Python 2",
   "language": "python",
   "name": "python2"
  },
  "language_info": {
   "codemirror_mode": {
    "name": "ipython",
    "version": 2
   },
   "file_extension": ".py",
   "mimetype": "text/x-python",
   "name": "python",
   "nbconvert_exporter": "python",
   "pygments_lexer": "ipython2",
   "version": "2.7.10"
  }
 },
 "nbformat": 4,
 "nbformat_minor": 0
}
