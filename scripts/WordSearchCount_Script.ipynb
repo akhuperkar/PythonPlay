{
 "cells": [
  {
   "cell_type": "markdown",
   "metadata": {},
   "source": [
    "## Word Search and Count Tutorial\n",
    "* **Written By:** Abhijit Khuperkar\n",
    "* **Email:** akhuperkar@yahoo.com"
   ]
  },
  {
   "cell_type": "markdown",
   "metadata": {},
   "source": [
    "#### Problem description:\n",
    "The input file InputFile.txt contains four lines of data. Write a program to do the following.\n",
    "1. Read the file and display its content \n",
    "2. Store the lines as elements of array.\n",
    "3. Ask user to enter a word. e.g. – Please enter a word 'AC'. Then ask user which one of the below options he is interested.\n",
    "    1. Count the number of occurrence of user entered word and display it. Program should give an error if user entered word is not there in the input file and it should ask again to enter the word. (Hint:- You may have to use while loop here)\n",
    "    2. Program should give which word is occurred maximum times in the input file. For instance, the AC word has occurred maximum time so the program should give the output as AC.\n",
    "\n",
    "The python code should ideally be modular – there should be a separate module (function) for each of the tasks A and B listed above. There should be a clear menu and communication with the user of the Program, saying user has selected option (function) A or option (function) B execution. You should also consider unreasonable inputs from the user."
   ]
  },
  {
   "cell_type": "markdown",
   "metadata": {},
   "source": [
    "#### The code:"
   ]
  },
  {
   "cell_type": "code",
   "execution_count": null,
   "metadata": {
    "collapsed": false
   },
   "outputs": [],
   "source": [
    "InputFile = open(\"C:/Users/DELL/Documents/BDAP/Term-3/Python102/Assignment/InputFile.txt\").read()\n",
    "print \"The contents of the input file:\"\n",
    "print \"```````````````````````````````\"\n",
    "print InputFile\n",
    "\n",
    "# A function returning occurrence count of a word  \n",
    "def wordFreq(InputFile, ipWord):\n",
    "    wordDict = {}\n",
    "    for word in InputFile.lower().split():\n",
    "        if word not in wordDict:\n",
    "            wordDict[word] = 1\n",
    "        else:\n",
    "            wordDict[word] += 1\n",
    "    if ipWord.lower() in wordDict:\n",
    "        return(int(wordDict[ipWord.lower()]))\n",
    "\n",
    "# A function returning the most occurring word    \n",
    "def modeWord(InputFile):\n",
    "    wordDict = {}\n",
    "    for word in InputFile.split():\n",
    "        if word not in wordDict:\n",
    "            wordDict[word] = 1\n",
    "        else:\n",
    "            wordDict[word] += 1\n",
    "    modeWord = max(wordDict, key=wordDict.get)\n",
    "    return(modeWord)\n",
    "\n",
    "# Program displaying required output\n",
    "while True:\n",
    "    try:\n",
    "        print(\"~\" * 32)\n",
    "        print(\"Choose one option (1 or 2 or 9): \")\n",
    "        print(\"~\" * 32)\n",
    "        print(\"1 Count occurrences of a word \\n2 Find the most occurring word \\n9 Exit\")\n",
    "        option = int(raw_input(\"\\nYour selection ==> \"))\n",
    "        print(\"``````````````\")\n",
    "\n",
    "        if option == 9:\n",
    "            print(\"Thank you!\")\n",
    "            print(\"``````````\")\n",
    "            break\n",
    "            #exit()\n",
    "        \n",
    "        if option == 1:\n",
    "            ipWord = raw_input(\"Enter your word: \")\n",
    "            print(\"`\" * 16)\n",
    "            w = wordFreq(InputFile, ipWord)\n",
    "            if w < 1:\n",
    "                print(\"Can't find the word '\" + str(ipWord) + \"'\")\n",
    "                print(\"`\" * 21 + \"`\" * len(str(ipWord)) + \"`\")\n",
    "            else:\n",
    "                print(\"The word \" + \"'\" + str(ipWord) + \"'\" + \" has occurred '\" + str(w) + \"' times\")\n",
    "                print(\"``````````\" + \"`\" * len(str(ipWord)) +  \"```````````````\" + \"`\" * len(str(w)) + \"```````\")\n",
    "\n",
    "        if option == 2:\n",
    "            freqWord = modeWord(InputFile)\n",
    "            print(\"'\" + freqWord + \"' is the most occurring word!\")\n",
    "            print(\"`\" * len(freqWord) + \"`````````````````````````````\")\n",
    "            \n",
    "        elif option != (1 or 2 or 9): \n",
    "            print(\"Please enter a valid input!\")\n",
    "            print(\"`\" * 27)\n",
    "    \n",
    "    except ValueError:\n",
    "        print(\"\\nInvalid input! Please try again.\")\n",
    "        print(\"`\" * 32)"
   ]
  }
 ],
 "metadata": {
  "kernelspec": {
   "display_name": "Python 2",
   "language": "python",
   "name": "python2"
  },
  "language_info": {
   "codemirror_mode": {
    "name": "ipython",
    "version": 2
   },
   "file_extension": ".py",
   "mimetype": "text/x-python",
   "name": "python",
   "nbconvert_exporter": "python",
   "pygments_lexer": "ipython2",
   "version": "2.7.10"
  }
 },
 "nbformat": 4,
 "nbformat_minor": 0
}
