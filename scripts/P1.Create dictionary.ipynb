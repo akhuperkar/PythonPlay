{
 "cells": [
  {
   "cell_type": "markdown",
   "metadata": {},
   "source": [
    "**Q1. Kindly write python code in minimal words to create this dictionary (25%)**"
   ]
  },
  {
   "cell_type": "markdown",
   "metadata": {},
   "source": [
    "**Read me:** Main dictionary *dictMain{}* is created by iterating elements of alphabetical and numeric dictionary over the sub-dictionary *dictSub{}* of counts and results dictionary. The nested for loop pulls all the elements of sub-dictionary into the main dictionary."
   ]
  },
  {
   "cell_type": "code",
   "execution_count": 1,
   "metadata": {
    "collapsed": false
   },
   "outputs": [
    {
     "name": "stdout",
     "output_type": "stream",
     "text": [
      "{'a': {'1': {'count': 0, 'results': [{'grade': 'ok', 'rc': 0}, {'grade': 'warning', 'rc': 1}]}, '3': {'count': 0, 'results': [{'grade': 'ok', 'rc': 0}, {'grade': 'warning', 'rc': 1}]}, '2': {'count': 0, 'results': [{'grade': 'ok', 'rc': 0}, {'grade': 'warning', 'rc': 1}]}, '5': {'count': 0, 'results': [{'grade': 'ok', 'rc': 0}, {'grade': 'warning', 'rc': 1}]}, '4': {'count': 0, 'results': [{'grade': 'ok', 'rc': 0}, {'grade': 'warning', 'rc': 1}]}}, 'c': {'1': {'count': 0, 'results': [{'grade': 'ok', 'rc': 0}, {'grade': 'warning', 'rc': 1}]}, '3': {'count': 0, 'results': [{'grade': 'ok', 'rc': 0}, {'grade': 'warning', 'rc': 1}]}, '2': {'count': 0, 'results': [{'grade': 'ok', 'rc': 0}, {'grade': 'warning', 'rc': 1}]}, '5': {'count': 0, 'results': [{'grade': 'ok', 'rc': 0}, {'grade': 'warning', 'rc': 1}]}, '4': {'count': 0, 'results': [{'grade': 'ok', 'rc': 0}, {'grade': 'warning', 'rc': 1}]}}, 'b': {'1': {'count': 0, 'results': [{'grade': 'ok', 'rc': 0}, {'grade': 'warning', 'rc': 1}]}, '3': {'count': 0, 'results': [{'grade': 'ok', 'rc': 0}, {'grade': 'warning', 'rc': 1}]}, '2': {'count': 0, 'results': [{'grade': 'ok', 'rc': 0}, {'grade': 'warning', 'rc': 1}]}, '5': {'count': 0, 'results': [{'grade': 'ok', 'rc': 0}, {'grade': 'warning', 'rc': 1}]}, '4': {'count': 0, 'results': [{'grade': 'ok', 'rc': 0}, {'grade': 'warning', 'rc': 1}]}}}\n"
     ]
    }
   ],
   "source": [
    "dictA = {'a', 'b', 'c'}             # Dictionary of three alphabetical elements\n",
    "dictN = {'1', '2', '3', '4', '5'}   # Dictionary of five numeric elements\n",
    "\n",
    "dictResult = [                      # Dictionary of result and status\n",
    "    {'grade': 'ok','rc': 0},\n",
    "    {'grade': 'warning', 'rc': 1}\n",
    "    ]\n",
    "\n",
    "# Sub-dictionary of count, results dictionary\n",
    "dictSub = {'count': 0, 'results': dictResult}  \n",
    "\n",
    "# Set up a dictionary with three null dictionaries a{}, b{}, c{}\n",
    "dictMain = {}                                  \n",
    "for i in dictA:\n",
    "     dictMain[i] = {}                         \n",
    "\n",
    "# Fill main dictionary with all the elements of sub-dictionary         \n",
    "for i in dictA:\n",
    "    for j in dictN:\n",
    "        dictMain[i][j] = dictSub\n",
    "\n",
    "print dictMain        "
   ]
  }
 ],
 "metadata": {
  "kernelspec": {
   "display_name": "Python 2",
   "language": "python",
   "name": "python2"
  },
  "language_info": {
   "codemirror_mode": {
    "name": "ipython",
    "version": 2
   },
   "file_extension": ".py",
   "mimetype": "text/x-python",
   "name": "python",
   "nbconvert_exporter": "python",
   "pygments_lexer": "ipython2",
   "version": "2.7.10"
  }
 },
 "nbformat": 4,
 "nbformat_minor": 0
}
