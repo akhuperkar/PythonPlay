{
 "cells": [
  {
   "cell_type": "markdown",
   "metadata": {},
   "source": [
    "**Q3. A queue is a data structure where the first element inserted is the first element out (FIFO). Create a class called Queue and define the following attributes – value, id. Write functions input(x) and output() that would imitate the data structure of a queue. Also define functions height() which returns the number of elements in the stack and isempty() which returns true if the stack is empty. (20%)**"
   ]
  },
  {
   "cell_type": "markdown",
   "metadata": {},
   "source": [
    "**Read me:** Implemented a queue data structure that handles input and output as FIFO. Initializd class Queue with attributes 'value' and 'id'. Wrote *input(), output()*  functions to interact with the queue class. \n",
    "\n",
    "**References:**\n",
    "* http://code.activestate.com/recipes/210459-quick-and-easy-fifo-queue-class/,\n",
    "* https://pymotw.com/2/Queue/"
   ]
  },
  {
   "cell_type": "code",
   "execution_count": 2,
   "metadata": {
    "collapsed": false
   },
   "outputs": [],
   "source": [
    "class Queue:\n",
    "    def __init__(self, value, id):\n",
    "        self.instack = []\n",
    "        self.outstack = []\n",
    "        self.value = value\n",
    "        self.id = id\n",
    "    def input(self, x):\n",
    "        self.instack.append(x)\n",
    "    def output(self):\n",
    "        if not self.outstack:\n",
    "            self.instack.reverse()\n",
    "            self.outstack = self.instack\n",
    "            self.instack = []\n",
    "        return self.outstack.output()\n",
    "    def height(self):\n",
    "        return len(self.id)\n",
    "    def isempty():\n",
    "        if len(self.id) == []:\n",
    "            return True\n",
    "        else:\n",
    "            return False"
   ]
  }
 ],
 "metadata": {
  "kernelspec": {
   "display_name": "Python 2",
   "language": "python",
   "name": "python2"
  },
  "language_info": {
   "codemirror_mode": {
    "name": "ipython",
    "version": 2
   },
   "file_extension": ".py",
   "mimetype": "text/x-python",
   "name": "python",
   "nbconvert_exporter": "python",
   "pygments_lexer": "ipython2",
   "version": "2.7.10"
  }
 },
 "nbformat": 4,
 "nbformat_minor": 0
}
