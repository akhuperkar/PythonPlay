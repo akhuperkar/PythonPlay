{
 "cells": [
  {
   "cell_type": "markdown",
   "metadata": {},
   "source": [
    "** Q5. Write a program, which will create a list of all unique characters used in a string sentence. The sentence can consist of alphabets, numbers and commas only. (20%) **"
   ]
  },
  {
   "cell_type": "markdown",
   "metadata": {},
   "source": [
    "**Read me:** I have written this program using two approaches. In the *first approach*, I am appending  characters to an empty list. I append all the characters that are not present in the list, which ensures the list contains only unique characters. In the *second approach*, I have used the *set()* function to filter unique characters from the list of all characters of a string. The identical outputs of both programs confirm the accuracy of the two approaches. \n",
    "\n",
    "To run this program, call the two functions - *uniqueCharList1()* OR *uniqueCharList2()* and pass the string argument. Press Ctrl+enter to run the program, which prints the output of unique characters of the string."
   ]
  },
  {
   "cell_type": "code",
   "execution_count": 1,
   "metadata": {
    "collapsed": false
   },
   "outputs": [],
   "source": [
    "# Approach-1: Append characters not already present in the list \n",
    "def uniqueCharList1(string):        \n",
    "    charList = []                   # Initiate a list\n",
    "    for char in string:             # Iterate characters over the string\n",
    "        if char not in charList:    # If character not present in the charList, append it\n",
    "            charList.append(char)\n",
    "    charList.sort()                 # Sort charList so output can be compared to approach-2\n",
    "    print(charList)                 # Print charList of unique characters"
   ]
  },
  {
   "cell_type": "code",
   "execution_count": 2,
   "metadata": {
    "collapsed": false
   },
   "outputs": [
    {
     "name": "stdout",
     "output_type": "stream",
     "text": [
      "[' ', ',', '-', '0', '1', 'a', 'c', 'e', 'g', 'h', 'i', 'j', 'l', 'm', 'n', 'o', 'p', 'r', 's', 't', 'u', 'v', 'y']\n"
     ]
    }
   ],
   "source": [
    "# Pass a string to the function and print the output    \n",
    "uniqueCharList1(\"java, c-suite, python are in the top-10 programming languages\")"
   ]
  },
  {
   "cell_type": "code",
   "execution_count": 3,
   "metadata": {
    "collapsed": false
   },
   "outputs": [],
   "source": [
    "# Approach-1: Use set function to obtain unique character list \n",
    "def uniqueCharList2(string):\n",
    "    charList = []                    # Initiate a list\n",
    "    for char in string:            \n",
    "        charList.append(char)        # Make a list of all characters in the string\n",
    "        uniqueSet = set(charList)    # Make a set of unique characters\n",
    "        uniqueList = list(uniqueSet) # Convert a set into a list \n",
    "    uniqueList.sort()\n",
    "    print(uniqueList)"
   ]
  },
  {
   "cell_type": "code",
   "execution_count": 4,
   "metadata": {
    "collapsed": false
   },
   "outputs": [
    {
     "name": "stdout",
     "output_type": "stream",
     "text": [
      "[' ', ',', '-', '0', '1', 'a', 'c', 'e', 'g', 'h', 'i', 'j', 'l', 'm', 'n', 'o', 'p', 'r', 's', 't', 'u', 'v', 'y']\n"
     ]
    }
   ],
   "source": [
    "# Pass a string to the function and print the output   \n",
    "uniqueCharList2(\"java, c-suite, python are in the top-10 programming languages\")"
   ]
  }
 ],
 "metadata": {
  "kernelspec": {
   "display_name": "Python 2",
   "language": "python",
   "name": "python2"
  },
  "language_info": {
   "codemirror_mode": {
    "name": "ipython",
    "version": 2
   },
   "file_extension": ".py",
   "mimetype": "text/x-python",
   "name": "python",
   "nbconvert_exporter": "python",
   "pygments_lexer": "ipython2",
   "version": "2.7.10"
  }
 },
 "nbformat": 4,
 "nbformat_minor": 0
}
